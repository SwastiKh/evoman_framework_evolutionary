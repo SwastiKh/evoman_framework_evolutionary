{
 "cells": [
  {
   "cell_type": "code",
   "execution_count": 7,
   "metadata": {},
   "outputs": [],
   "source": [
    "import numpy as np\n",
    "import os, sys\n",
    "from evoman.environment import Environment\n",
    "from demo_controller import player_controller\n"
   ]
  },
  {
   "cell_type": "code",
   "execution_count": 71,
   "metadata": {},
   "outputs": [
    {
     "name": "stdout",
     "output_type": "stream",
     "text": [
      "settings:\n",
      "\n",
      "MESSAGE: Pygame initialized for simulation.\n"
     ]
    }
   ],
   "source": [
    "dom_l = 1\n",
    "dom_u = -1\n",
    "mu = 0\n",
    "sigma = 0.21\n",
    "print('settings:')\n",
    "n_hidden_neurons = 128\n",
    "\n",
    "# choose this for not using visuals and thus making experiments faster\n",
    "headless = True\n",
    "if headless:\n",
    "    os.environ[\"SDL_VIDEODRIVER\"] = \"dummy\"\n",
    "\n",
    "\n",
    "experiment_name = 'test'\n",
    "if not os.path.exists(experiment_name):\n",
    "    os.makedirs(experiment_name)\n",
    "\n",
    "env = Environment(experiment_name=experiment_name,\n",
    "                  enemies=[1], # enemy number 1 is selected\n",
    "                  playermode=\"ai\",\n",
    "                  player_controller=player_controller(n_hidden_neurons),\n",
    "                  enemymode=\"static\",\n",
    "                  level=2,\n",
    "                  speed=\"fastest\",\n",
    "                  visuals=False)\n",
    "\n",
    "n_vars = (env.get_num_sensors() + 1) * n_hidden_neurons + (n_hidden_neurons + 1) * 5\n"
   ]
  },
  {
   "cell_type": "code",
   "execution_count": 72,
   "metadata": {},
   "outputs": [
    {
     "name": "stdout",
     "output_type": "stream",
     "text": [
      "0.0002209476210814109 0.0018074871854121266\n"
     ]
    }
   ],
   "source": [
    "# pop = np.random.uniform(dom_l, dom_u, (1, n_vars))\n",
    "\n",
    "pop = np.random.normal(mu, sigma, size=(1, n_vars))\n",
    "mean = abs(mu - np.mean(pop[0]))\n",
    "variance = abs(sigma - np.std(pop[0], ddof=1))\n",
    "print(mean, variance)"
   ]
  },
  {
   "cell_type": "code",
   "execution_count": 73,
   "metadata": {},
   "outputs": [
    {
     "name": "stdout",
     "output_type": "stream",
     "text": [
      "[[-0.05826692 -0.1622962   0.38903745 ...  0.32036048  0.36088334\n",
      "   0.30054731]]\n"
     ]
    }
   ],
   "source": [
    "print(pop)"
   ]
  },
  {
   "cell_type": "code",
   "execution_count": 74,
   "metadata": {},
   "outputs": [
    {
     "name": "stdout",
     "output_type": "stream",
     "text": [
      "3333\n",
      "0.7031585652265847\n",
      "-0.757110744305975\n",
      "1\n",
      "3333\n",
      "20\n"
     ]
    }
   ],
   "source": [
    "print(len(pop[0])) # 3333\n",
    "print(max(pop[0])) # 0.8\n",
    "print(min(pop[0])) # \n",
    "print(len(pop)) # 1\n",
    "print(n_vars) # 3333\n",
    "print(env.get_num_sensors()) # 20"
   ]
  },
  {
   "cell_type": "code",
   "execution_count": 75,
   "metadata": {},
   "outputs": [
    {
     "data": {
      "image/png": "[encoded data removed]",
      "text/plain": [
       "<Figure size 640x480 with 1 Axes>"
      ]
     },
     "metadata": {},
     "output_type": "display_data"
    }
   ],
   "source": [
    "import matplotlib.pyplot as plt\n",
    "count, bins, ignored = plt.hist(pop, 30, density=True)\n",
    "plt.plot(bins, 1/(sigma * np.sqrt(2 * np.pi)) *\n",
    "               np.exp( - (bins - mu)**2 / (2 * sigma**2) ),\n",
    "         linewidth=2, color='r')\n",
    "plt.show()"
   ]
  },
  {
   "cell_type": "code",
   "execution_count": 1,
   "metadata": {},
   "outputs": [
    {
     "name": "stdout",
     "output_type": "stream",
     "text": [
      "[1, 2, 3, 4, 5, 5, 4, 3, 2, 1]\n"
     ]
    },
    {
     "ename": "TypeError",
     "evalue": "unsupported operand type(s) for -: 'list' and 'list'",
     "output_type": "error",
     "traceback": [
      "\u001b[1;31m---------------------------------------------------------------------------\u001b[0m",
      "\u001b[1;31mTypeError\u001b[0m                                 Traceback (most recent call last)",
      "Cell \u001b[1;32mIn[1], line 4\u001b[0m\n\u001b[0;32m      2\u001b[0m b \u001b[38;5;241m=\u001b[39m [\u001b[38;5;241m5\u001b[39m, \u001b[38;5;241m4\u001b[39m, \u001b[38;5;241m3\u001b[39m, \u001b[38;5;241m2\u001b[39m, \u001b[38;5;241m1\u001b[39m]\n\u001b[0;32m      3\u001b[0m \u001b[38;5;28mprint\u001b[39m(a \u001b[38;5;241m+\u001b[39m b)\n\u001b[1;32m----> 4\u001b[0m \u001b[38;5;28mprint\u001b[39m(\u001b[43ma\u001b[49m\u001b[43m \u001b[49m\u001b[38;5;241;43m-\u001b[39;49m\u001b[43m \u001b[49m\u001b[43mb\u001b[49m)\n",
      "\u001b[1;31mTypeError\u001b[0m: unsupported operand type(s) for -: 'list' and 'list'"
     ]
    }
   ],
   "source": [
    "a = [1, 2, 3, 4, 5]\n",
    "b = [5, 4, 3, 2, 1]\n",
    "print(a + b)\n",
    "print(a - b)"
   ]
  },
  {
   "cell_type": "code",
   "execution_count": 2,
   "metadata": {},
   "outputs": [
    {
     "name": "stdout",
     "output_type": "stream",
     "text": [
      "[4, 2, 0, 2, 4]\n"
     ]
    }
   ],
   "source": [
    "a = [1, 2, 3, 4, 5]\n",
    "b = [5, 4, 3, 2, 1]\n",
    "\n",
    "# Element-wise subtraction with absolute value\n",
    "result = [abs(x - y) for x, y in zip(a, b)]\n",
    "\n",
    "print(result)"
   ]
  },
  {
   "cell_type": "code",
   "execution_count": 20,
   "metadata": {},
   "outputs": [
    {
     "name": "stdout",
     "output_type": "stream",
     "text": [
      "[[1, 2, 1, 4, 5], [3, 3, 3, 3, 3]]\n",
      "source_island end [[1, 2, 1, 4, 5], [5, 4, 3, 2, 1], [3, 3, 3, 3, 3]]\n"
     ]
    }
   ],
   "source": [
    "def similarity(source_island, destination_best, migration_size):\n",
    "    source_island_copy = source_island.copy()\n",
    "    most_similar = []\n",
    "    for i in range(migration_size):\n",
    "        similarity = 9999\n",
    "        for individual in source_island_copy:\n",
    "            difference = [abs(a - b) for a, b in zip(destination_best, individual)]\n",
    "            sum_diff = sum(difference)\n",
    "            if sum_diff <= similarity:\n",
    "                similarity = sum_diff\n",
    "                most_similar_ind = individual\n",
    "        most_similar.append(most_similar_ind)\n",
    "        source_island_copy.remove(most_similar_ind)\n",
    "\n",
    "    return most_similar\n",
    "\n",
    "\n",
    "source_island = [[1, 2, 1, 4, 5], [5, 4, 3, 2, 1], [3, 3, 3, 3, 3]]\n",
    "destination_best = [1, 1, 1, 1, 1]\n",
    "migration_size = 2\n",
    "most_similar = similarity(source_island, destination_best, migration_size)\n",
    "print(most_similar)\n",
    "print(\"source_island end\", source_island)\n"
   ]
  },
  {
   "cell_type": "code",
   "execution_count": 16,
   "metadata": {},
   "outputs": [
    {
     "name": "stdout",
     "output_type": "stream",
     "text": [
      "[[ 1  2  3]\n",
      " [ 4  5  6]\n",
      " [ 7  8  9]\n",
      " [10 11 12]]\n",
      "(4, 3)\n",
      "(2, 2, 3)\n"
     ]
    }
   ],
   "source": [
    "import numpy as np\n",
    "\n",
    "# Assuming flattened_world_pop_fit is a 3D NumPy array\n",
    "world = np.array([[[1, 2, 3], [4, 5, 6]], [[7, 8, 9], [10, 11, 12]]])\n",
    "n_islands = world.shape[1]\n",
    "\n",
    "# Convert 3D array to 2D array\n",
    "# flattened_world_pop_fit = world.reshape(2, 12)\n",
    "flattened_world_pop_fit = np.concatenate([world[i] for i in range(n_islands)], axis=0)\n",
    "\n",
    "print(flattened_world_pop_fit)\n",
    "print(flattened_world_pop_fit.shape)\n",
    "print(world.shape)\n"
   ]
  },
  {
   "cell_type": "code",
   "execution_count": null,
   "metadata": {},
   "outputs": [],
   "source": []
  }
 ],
 "metadata": {
  "kernelspec": {
   "display_name": "Python 3",
   "language": "python",
   "name": "python3"
  },
  "language_info": {
   "codemirror_mode": {
    "name": "ipython",
    "version": 3
   },
   "file_extension": ".py",
   "mimetype": "text/x-python",
   "name": "python",
   "nbconvert_exporter": "python",
   "pygments_lexer": "ipython3",
   "version": "3.11.9"
  }
 },
 "nbformat": 4,
 "nbformat_minor": 2
}
